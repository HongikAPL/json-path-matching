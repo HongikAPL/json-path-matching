{
  "nbformat": 4,
  "nbformat_minor": 0,
  "metadata": {
    "colab": {
      "provenance": [],
      "gpuType": "A100",
      "machine_shape": "hm"
    },
    "kernelspec": {
      "name": "python3",
      "display_name": "Python 3"
    },
    "language_info": {
      "name": "python"
    },
    "accelerator": "GPU"
  },
  "cells": [
    {
      "cell_type": "code",
      "source": [
        "!git clone https://github.com/HongikAPL/json-path-matching.git\n",
        "%cd json-path-matching\n",
        "!git checkout igeon-datafix"
      ],
      "metadata": {
        "id": "o9UEsxpUnXBk"
      },
      "execution_count": null,
      "outputs": []
    },
    {
      "cell_type": "code",
      "source": [
        "with open(\"requirements.txt\", \"w\") as f:\n",
        "    f.write(\"\"\"absl-py==2.3.0\n",
        "aiofiles==23.2.1\n",
        "aiohappyeyeballs==2.6.1\n",
        "aiohttp==3.12.4\n",
        "aiosignal==1.3.2\n",
        "analytics-python==1.4.post1\n",
        "annotated-types==0.7.0\n",
        "anyio==4.9.0\n",
        "async-timeout==5.0.1\n",
        "attrs==25.3.0\n",
        "backoff==1.10.0\n",
        "bcrypt==4.3.0\n",
        "beautifulsoup4==4.13.4\n",
        "black==25.1.0\n",
        "cffi==1.17.1\n",
        "cfgv==3.4.0\n",
        "click==8.1.8\n",
        "contourpy==1.3.0\n",
        "cryptography==45.0.3\n",
        "cycler==0.12.1\n",
        "datasets==1.2.1\n",
        "dill==0.3.4\n",
        "distlib==0.3.9\n",
        "docker-pycreds==0.4.0\n",
        "eval-type-backport==0.2.2\n",
        "exceptiongroup==1.3.0\n",
        "fastapi==0.115.12\n",
        "ffmpy==0.5.0\n",
        "filelock==3.18.0\n",
        "fonttools==4.58.1\n",
        "frozenlist==1.6.0\n",
        "fsspec==2025.5.1\n",
        "future==1.0.0\n",
        "gdown==5.2.0\n",
        "gitdb==4.0.12\n",
        "gitpython==3.1.44\n",
        "gradio==2.9.4\n",
        "gradio-client==1.3.0\n",
        "grpcio==1.71.0\n",
        "h11==0.16.0\n",
        "hf-xet==1.1.2\n",
        "httpcore==1.0.9\n",
        "httpx==0.28.1\n",
        "huggingface-hub==0.32.2\n",
        "identify==2.6.12\n",
        "importlib-metadata==8.7.0\n",
        "importlib-resources==6.5.2\n",
        "iniconfig==2.1.0\n",
        "isort==6.0.1\n",
        "jinja2==3.1.6\n",
        "kiwisolver==1.4.7\n",
        "linkify-it-py==2.0.3\n",
        "markdown==3.8\n",
        "markdown-it-py==3.0.0\n",
        "markupsafe==3.0.2\n",
        "matplotlib==3.9.4\n",
        "mdit-py-plugins==0.4.2\n",
        "mdurl==0.1.2\n",
        "monotonic==1.6\n",
        "mpmath==1.3.0\n",
        "multidict==6.4.4\n",
        "multiprocess==0.70.18\n",
        "mypy-extensions==1.1.0\n",
        "networkx==3.2.1\n",
        "nodeenv==1.9.1\n",
        "orjson==3.10.18\n",
        "packaging==25.0\n",
        "paramiko==3.5.1\n",
        "pathspec==0.12.1\n",
        "pillow==11.2.1\n",
        "platformdirs==4.3.8\n",
        "pluggy==1.6.0\n",
        "pre-commit==4.2.0\n",
        "prettytable==2.1.0\n",
        "propcache==0.3.1\n",
        "protobuf==6.31.1\n",
        "psutil==7.0.0\n",
        "pyarrow==20.0.0\n",
        "pycparser==2.22\n",
        "pycryptodome==3.23.0\n",
        "pydantic==2.11.5\n",
        "pydantic-core==2.33.2\n",
        "pydub==0.25.1\n",
        "pygments==2.19.1\n",
        "pynacl==1.5.0\n",
        "pyparsing==3.2.3\n",
        "pytest==8.3.5\n",
        "python-multipart==0.0.20\n",
        "pytorch-lightning==1.2.10\n",
        "pyyaml==6.0.2\n",
        "regex==2024.11.6\n",
        "rich==14.0.0\n",
        "ruff==0.11.12\n",
        "sacremoses==0.1.1\n",
        "safetensors==0.5.3\n",
        "semantic-version==2.10.0\n",
        "sentencepiece==0.2.0\n",
        "sentry-sdk==2.29.1\n",
        "setproctitle==1.3.6\n",
        "setuptools==80.9.0\n",
        "shellingham==1.5.4\n",
        "smmap==5.0.2\n",
        "sniffio==1.3.1\n",
        "soupsieve==2.7\n",
        "starlette==0.46.2\n",
        "sympy==1.14.0\n",
        "tensorboard==2.19.0\n",
        "tensorboard-data-server==0.7.2\n",
        "tomli==2.2.1\n",
        "tomlkit==0.12.0\n",
        "tqdm==4.49.0\n",
        "typer==0.16.0\n",
        "typing-inspection==0.4.1\n",
        "uc-micro-py==1.0.3\n",
        "urllib3==2.4.0\n",
        "uvicorn==0.34.2\n",
        "virtualenv==20.31.2\n",
        "wandb==0.19.11\n",
        "wcwidth==0.2.13\n",
        "websockets==12.0\n",
        "werkzeug==3.1.3\n",
        "xxhash==3.5.0\n",
        "yarl==1.20.0\n",
        "zipp==3.22.0\n",
        "\"\"\")\n",
        "\n",
        "# accelerate==0.27.2\n",
        "# transformers==4.38.2\n",
        "# tokenizers==0.14.1\n",
        "# torch==2.1.2\n",
        "# torchaudio==2.7.0\n",
        "# torchmetrics==0.2.0\n",
        "# torchvision==0.16.2\n"
      ],
      "metadata": {
        "id": "LxmkEwsQJZ3h"
      },
      "execution_count": null,
      "outputs": []
    },
    {
      "cell_type": "code",
      "source": [
        "!apt-get install -y libssl-dev\n",
        "!curl https://sh.rustup.rs -sSf | sh -s -- -y\n",
        "!source $HOME/.cargo/env"
      ],
      "metadata": {
        "id": "Sq6kTI3sDYw9"
      },
      "execution_count": null,
      "outputs": []
    },
    {
      "cell_type": "code",
      "source": [
        "!pip install -r requirements.txt --no-deps"
      ],
      "metadata": {
        "id": "nPAlIvg6Je0o"
      },
      "execution_count": null,
      "outputs": []
    },
    {
      "cell_type": "code",
      "source": [
        "!pip install transformers==4.38.2 accelerate==0.27.2 peft==0.10.0 tokenizers==0.14.1 --no-deps"
      ],
      "metadata": {
        "id": "kNnGktJfCxVd"
      },
      "execution_count": null,
      "outputs": []
    },
    {
      "cell_type": "code",
      "source": [
        "!python /content/json-path-matching/train.py \\\n",
        "    --model_name_or_path ./varclr \\\n",
        "    --generator_name distilroberta-base \\\n",
        "    --train_file /content/json-path-matching/data/train.txt \\\n",
        "    --output_dir /content/json-path-matching/varclr-finetuned/output \\\n",
        "    --cache_dir /content/json-path-matching/varclr-finetuned/cache \\\n",
        "    --num_train_epochs 2 \\\n",
        "    --per_device_train_batch_size 64 \\\n",
        "    --learning_rate 7e-6 \\\n",
        "    --max_seq_length 32 \\\n",
        "    --evaluation_strategy steps \\\n",
        "    --metric_for_best_model eval_auc \\\n",
        "    --load_best_model_at_end True \\\n",
        "    --eval_steps 250 \\\n",
        "    --save_steps 250 \\\n",
        "    --save_strategy steps \\\n",
        "    --pooler_type cls \\\n",
        "    --mlp_only_train \\\n",
        "    --overwrite_output_dir \\\n",
        "    --logging_first_step \\\n",
        "    --logging_dir /content/json-path-matching/varclr-finetuned/log \\\n",
        "    --temp 0.05 \\\n",
        "    --do_train \\\n",
        "    --do_eval \\\n",
        "    --lambda_weight 0.005 \\\n",
        "    --masking_ratio 0.30\n"
      ],
      "metadata": {
        "id": "YiTGmVY-7BY-"
      },
      "execution_count": null,
      "outputs": []
    },
    {
      "cell_type": "code",
      "source": [
        "from google.colab import drive\n",
        "drive.mount('/content/drive')"
      ],
      "metadata": {
        "colab": {
          "base_uri": "https://localhost:8080/"
        },
        "id": "yS0fUuZw9iyx",
        "outputId": "1c777b4d-a6bd-41e6-9570-154ef3715bcb"
      },
      "execution_count": null,
      "outputs": [
        {
          "output_type": "stream",
          "name": "stdout",
          "text": [
            "Mounted at /content/drive\n"
          ]
        }
      ]
    },
    {
      "cell_type": "code",
      "source": [
        "import shutil\n",
        "import os\n",
        "\n",
        "src_path = \"/content/json-path-matching/varclr-finetuned/output\"\n",
        "dst_path = \"/content/drive/MyDrive/models/diffcse_varclr\"\n",
        "\n",
        "os.makedirs(dst_path, exist_ok=True)\n",
        "\n",
        "# 폴더 전체 복사\n",
        "shutil.copytree(src_path, dst_path, dirs_exist_ok=True)"
      ],
      "metadata": {
        "colab": {
          "base_uri": "https://localhost:8080/",
          "height": 36
        },
        "id": "IdFTLEdk9qhE",
        "outputId": "e1e3115d-b981-4bb3-84b0-fb21401cb215"
      },
      "execution_count": null,
      "outputs": [
        {
          "output_type": "execute_result",
          "data": {
            "text/plain": [
              "'/content/drive/MyDrive/models/varclr'"
            ],
            "application/vnd.google.colaboratory.intrinsic+json": {
              "type": "string"
            }
          },
          "metadata": {},
          "execution_count": 13
        }
      ]
    }
  ]
}